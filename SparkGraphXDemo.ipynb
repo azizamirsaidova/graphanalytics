{
  "nbformat": 4,
  "nbformat_minor": 0,
  "metadata": {
    "colab": {
      "name": "SparkGraphXDemo.ipynb",
      "provenance": [],
      "collapsed_sections": [
        "UHMwakkymZfI",
        "ZmM6TmohmsUB",
        "Q_4J5zHXoFsE"
      ],
      "include_colab_link": true
    },
    "kernelspec": {
      "name": "python3",
      "display_name": "Python 3"
    },
    "language_info": {
      "name": "python"
    }
  },
  "cells": [
    {
      "cell_type": "markdown",
      "metadata": {
        "id": "view-in-github",
        "colab_type": "text"
      },
      "source": [
        "<a href=\"https://colab.research.google.com/github/azizamirsaidova/graphanalytics/blob/main/SparkGraphXDemo.ipynb\" target=\"_parent\"><img src=\"https://colab.research.google.com/assets/colab-badge.svg\" alt=\"Open In Colab\"/></a>"
      ]
    },
    {
      "cell_type": "markdown",
      "metadata": {
        "id": "Nn2ZF49Zl_4o"
      },
      "source": [
        "# **Graph Analytics Demo**\n",
        "**Using Spark GraphX**\n",
        "\n",
        "\n",
        "\n",
        "---\n"
      ]
    },
    {
      "cell_type": "markdown",
      "metadata": {
        "id": "UHMwakkymZfI"
      },
      "source": [
        "# **Spark and GraphFrames Set Up**\n"
      ]
    },
    {
      "cell_type": "code",
      "metadata": {
        "id": "8q9GaenM0qTu",
        "colab": {
          "base_uri": "https://localhost:8080/"
        },
        "outputId": "fb5b35a8-7d91-47f9-b6c4-2727138b0b40"
      },
      "source": [
        "# install java\n",
        "!apt-get install openjdk-8-jdk-headless -qq > /dev/null\n",
        "\n",
        "# install spark (change the version number if needed)\n",
        "!wget -q https://archive.apache.org/dist/spark/spark-3.2.0/spark-3.2.0-bin-hadoop3.2.tgz\n",
        "\n",
        "# unzip the spark file to the current folder\n",
        "!tar xf spark-3.2.0-bin-hadoop3.2.tgz\n",
        "\n",
        "# set your spark folder to your system path environment. \n",
        "import os\n",
        "os.environ[\"JAVA_HOME\"] = \"/usr/lib/jvm/java-8-openjdk-amd64\"\n",
        "os.environ[\"SPARK_HOME\"] = \"/content/spark-3.2.0-bin-hadoop3.2\"\n",
        "\n",
        "# install findspark using pip\n",
        "!pip install -q findspark\n",
        "\n",
        "# install pyspark\n",
        "!pip3 install pyspark==3.2.0\n",
        "\n",
        "# install graphframes\n",
        "!pip3 install graphframes"
      ],
      "execution_count": null,
      "outputs": [
        {
          "output_type": "stream",
          "name": "stdout",
          "text": [
            "Collecting pyspark==3.2.0\n",
            "  Downloading pyspark-3.2.0.tar.gz (281.3 MB)\n",
            "\u001b[K     |████████████████████████████████| 281.3 MB 35 kB/s \n",
            "\u001b[?25hCollecting py4j==0.10.9.2\n",
            "  Downloading py4j-0.10.9.2-py2.py3-none-any.whl (198 kB)\n",
            "\u001b[K     |████████████████████████████████| 198 kB 51.3 MB/s \n",
            "\u001b[?25hBuilding wheels for collected packages: pyspark\n"
          ]
        }
      ]
    },
    {
      "cell_type": "markdown",
      "metadata": {
        "id": "Li40SzYtq0H6"
      },
      "source": [
        "Download the graphframes jar file from: [Graphframe jar file:](https://repos.spark-packages.org/graphframes/graphframes/0.8.2-spark3.2-s_2.12/graphframes-0.8.2-spark3.2-s_2.12.jar)\n",
        "\n",
        "Upload it in the Google Colab Files folder. Can be found in the left pane of this window."
      ]
    },
    {
      "cell_type": "code",
      "metadata": {
        "colab": {
          "base_uri": "https://localhost:8080/"
        },
        "id": "6MVIEKxAHykk",
        "outputId": "ee785da1-22c3-45fa-aea7-f060808fa861"
      },
      "source": [
        "!cp -v /content/graphframes-0.8.2-spark3.2-s_2.12.jar $SPARK_HOME/jars/"
      ],
      "execution_count": null,
      "outputs": [
        {
          "output_type": "stream",
          "name": "stdout",
          "text": [
            "'/content/graphframes-0.8.2-spark3.2-s_2.12.jar' -> '/content/spark-3.2.0-bin-hadoop3.2/jars/graphframes-0.8.2-spark3.2-s_2.12.jar'\n"
          ]
        }
      ]
    },
    {
      "cell_type": "code",
      "metadata": {
        "id": "vMzCLSn81Grr"
      },
      "source": [
        "#import the packages\n",
        "from pyspark import *\n",
        "from pyspark.sql import *\n",
        "from graphframes import *\n",
        "import findspark\n",
        "import pandas as pd\n",
        "\n",
        "findspark.init()\n",
        "\n",
        "# Start a Spark session\n",
        "spark = SparkSession.builder.master(\"local[*]\").getOrCreate()"
      ],
      "execution_count": null,
      "outputs": []
    },
    {
      "cell_type": "markdown",
      "metadata": {
        "id": "sil6vP0sk6el"
      },
      "source": [
        "\n",
        "\n",
        "---\n",
        "# **This notebook covers the following:**\n",
        "\n",
        "\n",
        "---\n",
        "\n",
        "\n",
        "1.  **GraphFrames Basic Attributes**\n",
        "\n",
        "\n",
        "*   vertices\n",
        "*   edges\n",
        "*   inDegrees\n",
        "*   outDegrees\n",
        "*   degrees\n",
        "\n",
        "2.  **Built-In Algorithms**\n",
        "\n",
        "*   Connected Components\n",
        "*   PageRank\n",
        "*   Triangle Count\n",
        "*   Label Propagation\n",
        "\n",
        "3. **CPDB Example**\n",
        "\n",
        "* Connect to the CPDB database\n",
        "* Create a graph from SQL tables\n",
        "* Graph Analytics \n"
      ]
    },
    {
      "cell_type": "markdown",
      "metadata": {
        "id": "ZmM6TmohmsUB"
      },
      "source": [
        "# **GraphX Basic Attributes**"
      ]
    },
    {
      "cell_type": "code",
      "metadata": {
        "id": "6ELqmSwI1uzn"
      },
      "source": [
        "vertices = spark.createDataFrame([\n",
        "  (\"a\", \"Alice\", 34),\n",
        "  (\"b\", \"Bob\", 36),\n",
        "  (\"c\", \"Charlie\", 30),\n",
        "  (\"d\", \"David\", 29),\n",
        "  (\"e\", \"Esther\", 32),\n",
        "  (\"f\", \"Fanny\", 36),\n",
        "  (\"g\", \"Gabby\", 60)], [\"id\", \"name\", \"age\"])"
      ],
      "execution_count": null,
      "outputs": []
    },
    {
      "cell_type": "code",
      "metadata": {
        "id": "cig53T1r1zM-"
      },
      "source": [
        "edges = spark.createDataFrame([\n",
        "  (\"a\", \"b\", \"friend\"),\n",
        "  (\"b\", \"c\", \"follow\"),\n",
        "  (\"c\", \"b\", \"follow\"),\n",
        "  (\"f\", \"c\", \"follow\"),\n",
        "  (\"e\", \"f\", \"follow\"),\n",
        "  (\"e\", \"d\", \"friend\"),\n",
        "  (\"d\", \"a\", \"friend\"),\n",
        "  (\"a\", \"e\", \"friend\")\n",
        "], [\"src\", \"dst\", \"relationship\"])"
      ],
      "execution_count": null,
      "outputs": []
    },
    {
      "cell_type": "code",
      "metadata": {
        "id": "l0S8eIegdCvp"
      },
      "source": [
        "g = GraphFrame(vertices, edges)"
      ],
      "execution_count": null,
      "outputs": []
    },
    {
      "cell_type": "code",
      "metadata": {
        "colab": {
          "base_uri": "https://localhost:8080/"
        },
        "id": "weIdOfqwdGWi",
        "outputId": "70eadc73-387d-4a80-abc8-163d57c0428a"
      },
      "source": [
        "g.vertices.show()"
      ],
      "execution_count": null,
      "outputs": [
        {
          "output_type": "stream",
          "name": "stdout",
          "text": [
            "+---+-------+---+\n",
            "| id|   name|age|\n",
            "+---+-------+---+\n",
            "|  a|  Alice| 34|\n",
            "|  b|    Bob| 36|\n",
            "|  c|Charlie| 30|\n",
            "|  d|  David| 29|\n",
            "|  e| Esther| 32|\n",
            "|  f|  Fanny| 36|\n",
            "|  g|  Gabby| 60|\n",
            "+---+-------+---+\n",
            "\n"
          ]
        }
      ]
    },
    {
      "cell_type": "code",
      "metadata": {
        "colab": {
          "base_uri": "https://localhost:8080/"
        },
        "id": "1IgDGJ3_hIb3",
        "outputId": "30697a6c-c89f-4ae4-8e56-135009c5036c"
      },
      "source": [
        "g.edges.show()"
      ],
      "execution_count": null,
      "outputs": [
        {
          "output_type": "stream",
          "name": "stdout",
          "text": [
            "+---+---+------------+\n",
            "|src|dst|relationship|\n",
            "+---+---+------------+\n",
            "|  a|  b|      friend|\n",
            "|  b|  c|      follow|\n",
            "|  c|  b|      follow|\n",
            "|  f|  c|      follow|\n",
            "|  e|  f|      follow|\n",
            "|  e|  d|      friend|\n",
            "|  d|  a|      friend|\n",
            "|  a|  e|      friend|\n",
            "+---+---+------------+\n",
            "\n"
          ]
        }
      ]
    },
    {
      "cell_type": "code",
      "metadata": {
        "colab": {
          "base_uri": "https://localhost:8080/"
        },
        "id": "m8vQ2L1nnWrQ",
        "outputId": "bbadca3d-2b7e-4182-ebc6-7c5b9f502bbe"
      },
      "source": [
        "g.vertices.count()"
      ],
      "execution_count": null,
      "outputs": [
        {
          "output_type": "execute_result",
          "data": {
            "text/plain": [
              "7"
            ]
          },
          "metadata": {},
          "execution_count": 9
        }
      ]
    },
    {
      "cell_type": "code",
      "metadata": {
        "colab": {
          "base_uri": "https://localhost:8080/"
        },
        "id": "xdnTgXfQnaK8",
        "outputId": "4b821751-cb7b-4794-96c7-321d8169f2d8"
      },
      "source": [
        "g.edges.count()"
      ],
      "execution_count": null,
      "outputs": [
        {
          "output_type": "execute_result",
          "data": {
            "text/plain": [
              "8"
            ]
          },
          "metadata": {},
          "execution_count": 10
        }
      ]
    },
    {
      "cell_type": "code",
      "metadata": {
        "id": "YbXI5s3niMi-"
      },
      "source": [
        "# NetworkX to visualize the graph\n",
        "import networkx as nx\n",
        "\n",
        "def plot_graph(gx):\n",
        "    g = nx.DiGraph(directed = True)\n",
        "    \n",
        "    g = nx.from_pandas_edgelist(gx.edges.toPandas(),'src','dst')\n",
        "    g.add_nodes_from(gx.vertices.toPandas()['id'])\n",
        "\n",
        "    nx.draw(g, with_labels=True, arrows = True, node_color='grey')"
      ],
      "execution_count": null,
      "outputs": []
    },
    {
      "cell_type": "code",
      "metadata": {
        "colab": {
          "base_uri": "https://localhost:8080/",
          "height": 319
        },
        "id": "Cf0AX_xqiC21",
        "outputId": "748ee377-39e4-4178-85c9-4d25063491e3"
      },
      "source": [
        "plot_graph(g)"
      ],
      "execution_count": null,
      "outputs": [
        {
          "output_type": "display_data",
          "data": {
            "image/png": "[encoded data removed]",
            "text/plain": [
              "<Figure size 432x288 with 1 Axes>"
            ]
          },
          "metadata": {}
        }
      ]
    },
    {
      "cell_type": "markdown",
      "metadata": {
        "id": "cWuGNR9LhZDh"
      },
      "source": [
        "**inDegrees** is the number of edges directed into a vertex in a directed graph\n",
        "\n",
        "Usecase: We can identify those vertices/nodes that are highly connected by using the sort function"
      ]
    },
    {
      "cell_type": "code",
      "metadata": {
        "colab": {
          "base_uri": "https://localhost:8080/"
        },
        "id": "kU9iS0bdhrzh",
        "outputId": "65a7ac58-ff12-4b91-e7d7-d58009b5b14a"
      },
      "source": [
        "g.inDegrees.sort(['inDegree'],ascending=[0]).show()"
      ],
      "execution_count": null,
      "outputs": [
        {
          "output_type": "stream",
          "name": "stdout",
          "text": [
            "+---+--------+\n",
            "| id|inDegree|\n",
            "+---+--------+\n",
            "|  b|       2|\n",
            "|  c|       2|\n",
            "|  f|       1|\n",
            "|  e|       1|\n",
            "|  a|       1|\n",
            "|  d|       1|\n",
            "+---+--------+\n",
            "\n"
          ]
        }
      ]
    },
    {
      "cell_type": "markdown",
      "metadata": {
        "id": "gHJ6S0YsiyAe"
      },
      "source": [
        "**outDegrees** is the number of edges directed out of a vertex in a directed graph"
      ]
    },
    {
      "cell_type": "code",
      "metadata": {
        "colab": {
          "base_uri": "https://localhost:8080/"
        },
        "id": "D8HWlmY-hKgS",
        "outputId": "690a5ea5-9245-4950-9040-b78b62b9e88d"
      },
      "source": [
        "g.outDegrees.sort(['outDegree'],ascending=[0]).show()"
      ],
      "execution_count": null,
      "outputs": [
        {
          "output_type": "stream",
          "name": "stdout",
          "text": [
            "+---+---------+\n",
            "| id|outDegree|\n",
            "+---+---------+\n",
            "|  e|        2|\n",
            "|  a|        2|\n",
            "|  f|        1|\n",
            "|  c|        1|\n",
            "|  d|        1|\n",
            "|  b|        1|\n",
            "+---+---------+\n",
            "\n"
          ]
        }
      ]
    },
    {
      "cell_type": "markdown",
      "metadata": {
        "id": "zGF5S6y8i_mo"
      },
      "source": [
        "**Degree** is just a number of edges connected to a node regardless of the direction of edge"
      ]
    },
    {
      "cell_type": "code",
      "metadata": {
        "colab": {
          "base_uri": "https://localhost:8080/"
        },
        "id": "38PQX2y_hp7D",
        "outputId": "8fc0d113-1ccc-4ac7-cb48-2fa9762063f5"
      },
      "source": [
        "g.degrees.sort(['Degree'],ascending=[0]).show()"
      ],
      "execution_count": null,
      "outputs": [
        {
          "output_type": "stream",
          "name": "stdout",
          "text": [
            "+---+------+\n",
            "| id|degree|\n",
            "+---+------+\n",
            "|  c|     3|\n",
            "|  e|     3|\n",
            "|  b|     3|\n",
            "|  a|     3|\n",
            "|  f|     2|\n",
            "|  d|     2|\n",
            "+---+------+\n",
            "\n"
          ]
        }
      ]
    },
    {
      "cell_type": "code",
      "metadata": {
        "id": "uLlzmG43MCdc"
      },
      "source": [
        "# cpdb.vertices.filter(\"allegation_count > 20\").show()\n",
        "# cpdb_2 = cpdb.filterVertices(\"allegation_count > 20\").dropIsolatedVertices()\n",
        "# g.inDegrees.filter(\"inDegree >= 2\").sort(\"inDegree\", ascending=False).show()\n",
        "# g.edges.filter('type == \"friend\"')\n",
        "\n",
        "# Select subgraph based on edges \"e\" of type \"follow\"\n",
        "# pointing from a younger user \"a\" to an older user \"b\".\n",
        "paths = g.find(\"(a)-[e]->(b)\")\\\n",
        "  .filter(\"e.relationship = 'follow'\")\\\n",
        "  .filter(\"a.age < b.age\")\n",
        "# \"paths\" contains vertex info. Extract the edges.\n",
        "e2 = paths.select(\"e.src\", \"e.dst\", \"e.relationship\")\n",
        "# In Spark 1.5+, the user may simplify this call:\n",
        "#  val e2 = paths.select(\"e.*\")\n",
        "\n",
        "# Construct the subgraph\n",
        "g2 = GraphFrame(g.vertices, e2)"
      ],
      "execution_count": null,
      "outputs": []
    },
    {
      "cell_type": "markdown",
      "metadata": {
        "id": "Q_4J5zHXoFsE"
      },
      "source": [
        "# **Built-In Algorithms**\n",
        "\n",
        "\n",
        "---\n",
        "\n"
      ]
    },
    {
      "cell_type": "markdown",
      "metadata": {
        "id": "Qlo3KudDqHlq"
      },
      "source": [
        "**PageRank Algorithm**:"
      ]
    },
    {
      "cell_type": "code",
      "metadata": {
        "colab": {
          "base_uri": "https://localhost:8080/"
        },
        "id": "XH1j3mJqp9aC",
        "outputId": "bcafbbcc-ccc9-4010-bc93-a79d8bfa8a3f"
      },
      "source": [
        "pr = g.pageRank(resetProbability=0.15, tol=0.01)\n",
        "## look at the pagerank score for every vertex\n",
        "pr.vertices.show()\n",
        "## look at the weight of every edge\n",
        "pr.edges.show()"
      ],
      "execution_count": null,
      "outputs": [
        {
          "output_type": "stream",
          "name": "stdout",
          "text": [
            "+---+-------+---+-------------------+\n",
            "| id|   name|age|           pagerank|\n",
            "+---+-------+---+-------------------+\n",
            "|  g|  Gabby| 60| 0.1799821386239711|\n",
            "|  f|  Fanny| 36| 0.3283606792049851|\n",
            "|  e| Esther| 32|0.37085233187676075|\n",
            "|  d|  David| 29| 0.3283606792049851|\n",
            "|  c|Charlie| 30| 2.6878300011606218|\n",
            "|  b|    Bob| 36|  2.655507832863289|\n",
            "|  a|  Alice| 34|0.44910633706538744|\n",
            "+---+-------+---+-------------------+\n",
            "\n",
            "+---+---+------------+------+\n",
            "|src|dst|relationship|weight|\n",
            "+---+---+------------+------+\n",
            "|  f|  c|      follow|   1.0|\n",
            "|  e|  f|      follow|   0.5|\n",
            "|  e|  d|      friend|   0.5|\n",
            "|  d|  a|      friend|   1.0|\n",
            "|  c|  b|      follow|   1.0|\n",
            "|  b|  c|      follow|   1.0|\n",
            "|  a|  e|      friend|   0.5|\n",
            "|  a|  b|      friend|   0.5|\n",
            "+---+---+------------+------+\n",
            "\n"
          ]
        }
      ]
    },
    {
      "cell_type": "markdown",
      "metadata": {
        "id": "YhG88gmovjPg"
      },
      "source": [
        "**Connected Components**"
      ]
    },
    {
      "cell_type": "code",
      "metadata": {
        "id": "x1UcOUhAvqZy"
      },
      "source": [
        "from pyspark.context import SparkContext\n",
        "sc = SparkContext.getOrCreate(SparkConf())\n",
        "sc.setCheckpointDir('/content/sample_data')\n",
        "# SparkContext.setCheckpointDir(dirName= '/content/sample_data')\n"
      ],
      "execution_count": null,
      "outputs": []
    },
    {
      "cell_type": "code",
      "metadata": {
        "id": "7qQ5ywgbvjfD",
        "colab": {
          "base_uri": "https://localhost:8080/"
        },
        "outputId": "2f457d78-6908-4854-9c26-47671ba7b477"
      },
      "source": [
        "g.connectedComponents().show()"
      ],
      "execution_count": null,
      "outputs": [
        {
          "output_type": "stream",
          "name": "stdout",
          "text": [
            "+---+-------+---+------------+\n",
            "| id|   name|age|   component|\n",
            "+---+-------+---+------------+\n",
            "|  a|  Alice| 34|412316860416|\n",
            "|  b|    Bob| 36|412316860416|\n",
            "|  c|Charlie| 30|412316860416|\n",
            "|  d|  David| 29|412316860416|\n",
            "|  e| Esther| 32|412316860416|\n",
            "|  f|  Fanny| 36|412316860416|\n",
            "|  g|  Gabby| 60|146028888064|\n",
            "+---+-------+---+------------+\n",
            "\n"
          ]
        }
      ]
    },
    {
      "cell_type": "markdown",
      "metadata": {
        "id": "mNYJCKONoNBn"
      },
      "source": [
        "**Label Propagation**\n"
      ]
    },
    {
      "cell_type": "code",
      "metadata": {
        "id": "28LHiecbJqoO",
        "colab": {
          "base_uri": "https://localhost:8080/"
        },
        "outputId": "a58f81e5-44a1-457c-fc48-0d185f80a3ee"
      },
      "source": [
        "communities = g.labelPropagation(maxIter=40)\n",
        "communities.persist().show(10)\n",
        "print (f\"There are {communities.select('label').distinct().count()} communities in this sample graph.\")"
      ],
      "execution_count": null,
      "outputs": [
        {
          "output_type": "stream",
          "name": "stdout",
          "text": [
            "+---+-------+---+-------------+\n",
            "| id|   name|age|        label|\n",
            "+---+-------+---+-------------+\n",
            "|  g|  Gabby| 60| 146028888064|\n",
            "|  b|    Bob| 36|1382979469312|\n",
            "|  e| Esther| 32|1047972020224|\n",
            "|  a|  Alice| 34|1460288880640|\n",
            "|  f|  Fanny| 36|1460288880640|\n",
            "|  d|  David| 29|1382979469312|\n",
            "|  c|Charlie| 30|1047972020224|\n",
            "+---+-------+---+-------------+\n",
            "\n",
            "There are 4 communities in this sample graph.\n"
          ]
        }
      ]
    },
    {
      "cell_type": "code",
      "metadata": {
        "id": "EU8iMS1VpMJP",
        "colab": {
          "base_uri": "https://localhost:8080/"
        },
        "outputId": "59c3618f-731d-4d69-984e-5ddfa41f002b"
      },
      "source": [
        "#only shows the top 5 rows\n",
        "labelp_result.groupby('label').count().sort('count', ascending=False).show(5)"
      ],
      "execution_count": null,
      "outputs": [
        {
          "output_type": "stream",
          "name": "stdout",
          "text": [
            "+-------------+-----+\n",
            "|        label|count|\n",
            "+-------------+-----+\n",
            "|1382979469312|    2|\n",
            "|1047972020224|    2|\n",
            "|1460288880640|    2|\n",
            "| 146028888064|    1|\n",
            "+-------------+-----+\n",
            "\n"
          ]
        }
      ]
    },
    {
      "cell_type": "markdown",
      "metadata": {
        "id": "Pq2FwN7aUSoE"
      },
      "source": [
        "**Triangle Count**"
      ]
    },
    {
      "cell_type": "code",
      "metadata": {
        "id": "qEq05nsFXPje",
        "colab": {
          "base_uri": "https://localhost:8080/"
        },
        "outputId": "d7259abf-0843-4a79-8a4d-110b9a441d33"
      },
      "source": [
        "tc_friends = g.triangleCount()\n",
        "tc_friends.select(\"id\", \"count\").show()"
      ],
      "execution_count": null,
      "outputs": [
        {
          "output_type": "stream",
          "name": "stdout",
          "text": [
            "+---+-----+\n",
            "| id|count|\n",
            "+---+-----+\n",
            "|  c|    0|\n",
            "|  b|    0|\n",
            "|  a|    1|\n",
            "|  g|    0|\n",
            "|  f|    0|\n",
            "|  e|    1|\n",
            "|  d|    1|\n",
            "+---+-----+\n",
            "\n"
          ]
        }
      ]
    },
    {
      "cell_type": "markdown",
      "metadata": {
        "id": "PK860SmxxHRb"
      },
      "source": [
        "# **CPDB Example**\n",
        "\n",
        "Analyze the police officers connection with allegations"
      ]
    },
    {
      "cell_type": "code",
      "metadata": {
        "id": "1ei_oY0-OcaJ"
      },
      "source": [
        "import psycopg2"
      ],
      "execution_count": null,
      "outputs": []
    },
    {
      "cell_type": "code",
      "metadata": {
        "id": "L4YGowB2Occ7"
      },
      "source": [
        "# access the postgresql server\n",
        "conn = psycopg2.connect(\n",
        "    host=\"codd04.research.northwestern.edu\",\n",
        "    port = \"5433\",\n",
        "    database=\"postgres\",\n",
        "    user=\"cpdbstudent\",\n",
        "    password=\"DataSci4AI\")"
      ],
      "execution_count": null,
      "outputs": []
    },
    {
      "cell_type": "code",
      "metadata": {
        "id": "fUSZMYh5Ohg7"
      },
      "source": [
        "cursor = conn.cursor()"
      ],
      "execution_count": null,
      "outputs": []
    },
    {
      "cell_type": "markdown",
      "metadata": {
        "id": "xdjZye58yCEP"
      },
      "source": [
        "**Following query creates nodes and edges to answer the questions.**\n",
        "\n",
        "\n",
        "\n",
        "*   **nodes**: id, officer name and allegation count\n",
        "*   **edges**: src(officer1 id), dist(officer2 id) and relationship(allegation count)"
      ]
    },
    {
      "cell_type": "code",
      "metadata": {
        "id": "zkOfRw_FOhk0"
      },
      "source": [
        "edges_query = \"SELECT da1.officer_id src, da2.officer_id dst, COUNT(DISTINCT da1.allegation_id) relationship FROM data_officerallegation da1 JOIN data_officerallegation da2 ON da1.allegation_id = da2.allegation_id AND da1.officer_id < da2.officer_id GROUP BY da1.officer_id, da2.officer_id ORDER BY count(*) DESC;\""
      ],
      "execution_count": null,
      "outputs": []
    },
    {
      "cell_type": "code",
      "metadata": {
        "id": "OcMIWVuTOl18"
      },
      "source": [
        "nodes_query = \"SELECT  id, first_name || ' ' || last_name officer_name, allegation_count FROM data_officer;\""
      ],
      "execution_count": null,
      "outputs": []
    },
    {
      "cell_type": "code",
      "metadata": {
        "id": "HAAAAxavOl7g"
      },
      "source": [
        "cursor.execute(edges_query)\n",
        "edges = cursor.fetchall()\n",
        "print(\"shape is: \" + str(len(edges))) # 17465\n",
        "\n",
        "df_edges = pd.DataFrame(edges)\n",
        "colnames = [desc[0] for desc in cursor.description]\n",
        "df_edges.columns = colnames\n",
        "\n",
        "print(df_edges.shape)"
      ],
      "execution_count": null,
      "outputs": []
    },
    {
      "cell_type": "code",
      "metadata": {
        "id": "itgubJqDOq-b"
      },
      "source": [
        "cursor.execute(nodes_query)\n",
        "nodes = cursor.fetchall()\n",
        "print(\"shape is: \" + str(len(nodes))) # 17465\n",
        "\n",
        "df_nodes = pd.DataFrame(nodes)\n",
        "colnames = [desc[0] for desc in cursor.description]\n",
        "df_nodes.columns = colnames\n",
        "\n",
        "print(df_nodes.shape)"
      ],
      "execution_count": null,
      "outputs": []
    },
    {
      "cell_type": "code",
      "metadata": {
        "id": "Z6Ndlh2fOuPr"
      },
      "source": [
        "edges_ = spark.createDataFrame(df_edges)"
      ],
      "execution_count": null,
      "outputs": []
    },
    {
      "cell_type": "code",
      "metadata": {
        "id": "NQpUzzhiOuM6"
      },
      "source": [
        "nodes = spark.createDataFrame(df_nodes)"
      ],
      "execution_count": null,
      "outputs": []
    },
    {
      "cell_type": "code",
      "metadata": {
        "id": "5E6wePicOzAe"
      },
      "source": [
        "cpdb = GraphFrame(nodes, edges_)"
      ],
      "execution_count": null,
      "outputs": []
    },
    {
      "cell_type": "code",
      "metadata": {
        "id": "nGmLt3whyPAu"
      },
      "source": [
        "cpdb.vertices.show()"
      ],
      "execution_count": null,
      "outputs": []
    },
    {
      "cell_type": "code",
      "metadata": {
        "id": "MQ3vTw0yySrG"
      },
      "source": [
        "cpdb.edges.show()"
      ],
      "execution_count": null,
      "outputs": []
    },
    {
      "cell_type": "code",
      "metadata": {
        "id": "hzc372hgOzDF"
      },
      "source": [
        "cpdb.vertices.sort(['id'],ascending=True).show()"
      ],
      "execution_count": null,
      "outputs": []
    },
    {
      "cell_type": "markdown",
      "metadata": {
        "id": "KN9nm4zfM5Ph"
      },
      "source": [
        "**triangleCount**"
      ]
    },
    {
      "cell_type": "code",
      "metadata": {
        "id": "bjfzCySMdHr7",
        "outputId": "e4dd1938-9e8b-42cc-ec52-ed7857449c30",
        "colab": {
          "base_uri": "https://localhost:8080/"
        }
      },
      "source": [
        "#triangle count\n",
        "tc_cpdb = cpdb.triangleCount()\n",
        "tc_cpdb.select(\"id\", \"count\").show()"
      ],
      "execution_count": 38,
      "outputs": [
        {
          "metadata": {
            "tags": null
          },
          "name": "stdout",
          "output_type": "stream",
          "text": [
            "+-----+-----+\n",
            "|   id|count|\n",
            "+-----+-----+\n",
            "|19659|    0|\n",
            "| 8259|    0|\n",
            "|33755|    0|\n",
            "|17716|    0|\n",
            "|33725|    0|\n",
            "|32506|    0|\n",
            "|17146|    0|\n",
            "|  333|    0|\n",
            "|17289|    0|\n",
            "| 2680|    0|\n",
            "|19974|    0|\n",
            "|17242|    0|\n",
            "|32491|    0|\n",
            "|32312|   37|\n",
            "|32358|  109|\n",
            "|32480|    0|\n",
            "| 1791|    0|\n",
            "|18597|    0|\n",
            "|29553|    0|\n",
            "|29111|    0|\n",
            "+-----+-----+\n",
            "only showing top 20 rows\n",
            "\n"
          ]
        }
      ]
    },
    {
      "cell_type": "markdown",
      "metadata": {
        "id": "uHOPkaSRM1Iy"
      },
      "source": [
        "**pageRank**"
      ]
    },
    {
      "cell_type": "code",
      "metadata": {
        "id": "6R15Gbqv2kQT",
        "outputId": "1ee41f5a-b03e-484f-d6a5-62ed25b1cd2e",
        "colab": {
          "base_uri": "https://localhost:8080/"
        }
      },
      "source": [
        "pr_cpdb = cpdb.pageRank(resetProbability=0.15, tol=0.01)\n",
        "#look at the pagerank score for every vertex\n",
        "pr_cpdb.vertices.orderBy('pagerank', ascending=False).show()"
      ],
      "execution_count": 39,
      "outputs": [
        {
          "output_type": "stream",
          "name": "stdout",
          "text": [
            "+-----+------------------+----------------+------------------+\n",
            "|   id|      officer_name|allegation_count|          pagerank|\n",
            "+-----+------------------+----------------+------------------+\n",
            "|32442|      John Zinchuk|            23.0|165.10729586041256|\n",
            "|32440|       Mark Zawila|            34.0|116.94160976162037|\n",
            "|32425|    Perry Williams|            27.0| 98.30895865468763|\n",
            "|32350|    Robert Spiegel|            20.0| 93.89434875347713|\n",
            "|32410|     Joseph Watson|            29.0| 93.08113520836221|\n",
            "|32430|    Michael Wrobel|            22.0| 91.40650266023003|\n",
            "|32074|    Ronald Jenkins|            46.0| 90.96964645853048|\n",
            "|32284|         Mark Reno|            76.0| 88.61011443215773|\n",
            "|32351|  Boonserm Srisuth|            25.0| 85.74844965857213|\n",
            "|32433|     Kenneth Yakes|            29.0|  82.5344126116758|\n",
            "|32419|         Eric Wier|            18.0| 78.00667585859934|\n",
            "|32384|     Edwin Utreras|            47.0| 77.30836139098388|\n",
            "|32435|    Mohammad Yusuf|            22.0| 76.78881509893944|\n",
            "|32413| Carl Weatherspoon|            69.0|  75.1520442159433|\n",
            "|32337|       Louis Silva|            21.0| 75.00181054882047|\n",
            "|32431|     Albert Wyroba|            15.0| 74.79734661303651|\n",
            "|32289|       John Rivera|            44.0| 73.23421927205004|\n",
            "|32401|    Joshua Wallace|            45.0|  72.4657128499791|\n",
            "|32375|James Triantafillo|            31.0| 65.51924756708055|\n",
            "|32436|   Edmund Zablocki|            28.0| 62.94909260087443|\n",
            "+-----+------------------+----------------+------------------+\n",
            "only showing top 20 rows\n",
            "\n"
          ]
        }
      ]
    },
    {
      "cell_type": "markdown",
      "metadata": {
        "id": "PMRYP3yGzZ4e"
      },
      "source": [
        "**aggregateMessages**"
      ]
    },
    {
      "cell_type": "code",
      "metadata": {
        "id": "gtzyNETZ2X6E",
        "outputId": "a2f52848-86dc-46fc-8e28-2d1e004fb26b",
        "colab": {
          "base_uri": "https://localhost:8080/"
        }
      },
      "source": [
        "from pyspark.sql.functions import sum as sqlsum\n",
        "from graphframes.lib import AggregateMessages as AM\n",
        "# from graphframes.examples import Graphs\n",
        "# g = Graphs(sqlContext).friends()  # Get example graph\n",
        "\n",
        "# For each user, sum the ages of the adjacent users.\n",
        "msgToSrc = AM.dst[\"allegation_count\"]\n",
        "msgToDst = AM.src[\"allegation_count\"]\n",
        "agg = cpdb.aggregateMessages(\n",
        "    sqlsum(AM.msg).alias(\"summedAllegations\"),\n",
        "    sendToSrc=msgToSrc,\n",
        "    sendToDst=msgToDst)\n",
        "\n",
        "agg.sort(['id'],ascending=True).show()"
      ],
      "execution_count": 40,
      "outputs": [
        {
          "output_type": "stream",
          "name": "stdout",
          "text": [
            "+---+-----------------+\n",
            "| id|summedAllegations|\n",
            "+---+-----------------+\n",
            "|  1|            101.0|\n",
            "|  2|            301.0|\n",
            "|  4|             24.0|\n",
            "|  5|            293.0|\n",
            "|  6|            273.0|\n",
            "|  7|            347.0|\n",
            "|  8|            156.0|\n",
            "|  9|             13.0|\n",
            "| 11|            138.0|\n",
            "| 12|            383.0|\n",
            "| 13|            149.0|\n",
            "| 14|             54.0|\n",
            "| 15|             90.0|\n",
            "| 16|            987.0|\n",
            "| 17|            208.0|\n",
            "| 18|             33.0|\n",
            "| 19|             27.0|\n",
            "| 20|             37.0|\n",
            "| 21|            114.0|\n",
            "| 25|              7.0|\n",
            "+---+-----------------+\n",
            "only showing top 20 rows\n",
            "\n"
          ]
        }
      ]
    },
    {
      "cell_type": "markdown",
      "metadata": {
        "id": "yMCmGMD-LMpZ"
      },
      "source": [
        "**Subgraph creation**"
      ]
    },
    {
      "cell_type": "code",
      "metadata": {
        "id": "byRLMuHuLPEX"
      },
      "source": [
        "cpdb.vertices.filter(\"allegation_count > 20\").show()\n",
        "cpdb_2 = cpdb.filterVertices(\"allegation_count > 20\").dropIsolatedVertices()\n",
        "# g.inDegrees.filter(\"inDegree >= 2\").sort(\"inDegree\", ascending=False).show()\n",
        "# g.edges.filter('type == \"friend\"')\n",
        "\n",
        "# Select subgraph based on edges \"e\" of type \"follow\"\n",
        "# pointing from a younger user \"a\" to an older user \"b\".\n",
        "paths = g.find(\"(a)-[e]->(b)\")\\\n",
        "  .filter(\"e.relationship = 'follow'\")\\\n",
        "  .filter(\"a.age < b.age\")\n",
        "# \"paths\" contains vertex info. Extract the edges.\n",
        "e2 = paths.select(\"e.src\", \"e.dst\", \"e.relationship\")\n",
        "# In Spark 1.5+, the user may simplify this call:\n",
        "#  val e2 = paths.select(\"e.*\")\n",
        "\n",
        "# Construct the subgraph\n",
        "g2 = GraphFrame(g.vertices, e2)"
      ],
      "execution_count": null,
      "outputs": []
    }
  ]
}