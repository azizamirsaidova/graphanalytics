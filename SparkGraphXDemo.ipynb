{
  "nbformat": 4,
  "nbformat_minor": 0,
  "metadata": {
    "colab": {
      "name": "SparkGraphXDemo.ipynb",
      "provenance": [],
      "collapsed_sections": [
        "cWuGNR9LhZDh",
        "Q_4J5zHXoFsE"
      ],
      "include_colab_link": true
    },
    "kernelspec": {
      "name": "python3",
      "display_name": "Python 3"
    },
    "language_info": {
      "name": "python"
    }
  },
  "cells": [
    {
      "cell_type": "markdown",
      "metadata": {
        "id": "view-in-github",
        "colab_type": "text"
      },
      "source": [
        "<a href=\"https://colab.research.google.com/github/azizamirsaidova/graphanalytics/blob/main/SparkGraphXDemo.ipynb\" target=\"_parent\"><img src=\"https://colab.research.google.com/assets/colab-badge.svg\" alt=\"Open In Colab\"/></a>"
      ]
    },
    {
      "cell_type": "markdown",
      "metadata": {
        "id": "Nn2ZF49Zl_4o"
      },
      "source": [
        "# **Graph Analytics Demo**\n",
        "**Using Spark GraphX**\n",
        "\n",
        "\n",
        "\n",
        "---\n"
      ]
    },
    {
      "cell_type": "markdown",
      "metadata": {
        "id": "UHMwakkymZfI"
      },
      "source": [
        "# **Spark and GraphFrames Set Up**\n"
      ]
    },
    {
      "cell_type": "code",
      "metadata": {
        "id": "8q9GaenM0qTu"
      },
      "source": [
        "# install java\n",
        "!apt-get install openjdk-8-jdk-headless -qq > /dev/null\n",
        "\n",
        "# install spark (change the version number if needed)\n",
        "!wget -q https://archive.apache.org/dist/spark/spark-3.2.0/spark-3.2.0-bin-hadoop3.2.tgz\n",
        "\n",
        "# unzip the spark file to the current folder\n",
        "!tar xf spark-3.2.0-bin-hadoop3.2.tgz\n",
        "\n",
        "# set your spark folder to your system path environment. \n",
        "import os\n",
        "os.environ[\"JAVA_HOME\"] = \"/usr/lib/jvm/java-8-openjdk-amd64\"\n",
        "os.environ[\"SPARK_HOME\"] = \"/content/spark-3.2.0-bin-hadoop3.2\"\n",
        "\n",
        "# install findspark using pip\n",
        "!pip install -q findspark\n",
        "\n",
        "# install pyspark\n",
        "!pip3 install pyspark==3.2.0\n",
        "\n",
        "# install graphframes\n",
        "!pip3 install graphframes"
      ],
      "execution_count": null,
      "outputs": []
    },
    {
      "cell_type": "markdown",
      "metadata": {
        "id": "Li40SzYtq0H6"
      },
      "source": [
        "Download the graphframes jar file from: [Graphframe jar file:](https://repos.spark-packages.org/graphframes/graphframes/0.8.2-spark3.2-s_2.12/graphframes-0.8.2-spark3.2-s_2.12.jar)\n",
        "\n",
        "Upload it in the google colab Files folder. Can be found in the left pane of this window."
      ]
    },
    {
      "cell_type": "code",
      "metadata": {
        "colab": {
          "base_uri": "https://localhost:8080/"
        },
        "id": "6MVIEKxAHykk",
        "outputId": "bd69e272-638e-4050-88b5-d7e9c0bf128b"
      },
      "source": [
        "!cp -v /content/graphframes-0.8.2-spark3.2-s_2.12.jar $SPARK_HOME/jars/"
      ],
      "execution_count": null,
      "outputs": [
        {
          "output_type": "stream",
          "name": "stdout",
          "text": [
            "'/content/graphframes-0.8.2-spark3.2-s_2.12.jar' -> '/content/spark-3.2.0-bin-hadoop3.2/jars/graphframes-0.8.2-spark3.2-s_2.12.jar'\n"
          ]
        }
      ]
    },
    {
      "cell_type": "code",
      "metadata": {
        "id": "vMzCLSn81Grr"
      },
      "source": [
        "#import the packages\n",
        "from pyspark import *\n",
        "from pyspark.sql import *\n",
        "from graphframes import *\n",
        "import findspark\n",
        "import pandas as pd\n",
        "findspark.init()\n",
        "\n",
        "spark = SparkSession.builder.master(\"local[*]\").getOrCreate()"
      ],
      "execution_count": null,
      "outputs": []
    },
    {
      "cell_type": "markdown",
      "metadata": {
        "id": "sil6vP0sk6el"
      },
      "source": [
        "\n",
        "\n",
        "---\n",
        "# **This notebook covers the followings:**\n",
        "\n",
        "\n",
        "---\n",
        "\n",
        "\n",
        "1.   **Graph Basic Attributes**\n",
        "\n",
        "\n",
        "*   vertices\n",
        "*   edges\n",
        "*   inDegrees\n",
        "*   outDegrees\n",
        "*   degrees\n",
        "\n",
        "2.   **Built-In Algorithms**\n",
        "\n",
        "*   Connected Components\n",
        "*   PageRank\n",
        "*   Triangle Count\n",
        "*   Label Propagation\n",
        "\n",
        "3. **CPDB Example**\n"
      ]
    },
    {
      "cell_type": "markdown",
      "metadata": {
        "id": "ZmM6TmohmsUB"
      },
      "source": [
        "# **Graph Basic Attributes**"
      ]
    },
    {
      "cell_type": "code",
      "metadata": {
        "id": "6ELqmSwI1uzn"
      },
      "source": [
        "vertices = spark.createDataFrame([\n",
        "  (\"a\", \"Alice\", 34),\n",
        "  (\"b\", \"Bob\", 36),\n",
        "  (\"c\", \"Charlie\", 30),\n",
        "  (\"d\", \"David\", 29),\n",
        "  (\"e\", \"Esther\", 32),\n",
        "  (\"f\", \"Fanny\", 36),\n",
        "  (\"g\", \"Gabby\", 60)], [\"id\", \"name\", \"age\"])"
      ],
      "execution_count": null,
      "outputs": []
    },
    {
      "cell_type": "code",
      "metadata": {
        "id": "cig53T1r1zM-"
      },
      "source": [
        "edges = spark.createDataFrame([\n",
        "  (\"a\", \"b\", \"friend\"),\n",
        "  (\"b\", \"c\", \"follow\"),\n",
        "  (\"c\", \"b\", \"follow\"),\n",
        "  (\"f\", \"c\", \"follow\"),\n",
        "  (\"e\", \"f\", \"follow\"),\n",
        "  (\"e\", \"d\", \"friend\"),\n",
        "  (\"d\", \"a\", \"friend\"),\n",
        "  (\"a\", \"e\", \"friend\")\n",
        "], [\"src\", \"dst\", \"relationship\"])"
      ],
      "execution_count": null,
      "outputs": []
    },
    {
      "cell_type": "code",
      "metadata": {
        "id": "l0S8eIegdCvp"
      },
      "source": [
        "g = GraphFrame(vertices, edges)"
      ],
      "execution_count": null,
      "outputs": []
    },
    {
      "cell_type": "code",
      "metadata": {
        "colab": {
          "base_uri": "https://localhost:8080/"
        },
        "id": "weIdOfqwdGWi",
        "outputId": "9f013ef8-4490-4d02-dce3-5b9670f5ea46"
      },
      "source": [
        "g.vertices.show()"
      ],
      "execution_count": null,
      "outputs": [
        {
          "output_type": "stream",
          "name": "stdout",
          "text": [
            "+---+-------+---+\n",
            "| id|   name|age|\n",
            "+---+-------+---+\n",
            "|  a|  Alice| 34|\n",
            "|  b|    Bob| 36|\n",
            "|  c|Charlie| 30|\n",
            "|  d|  David| 29|\n",
            "|  e| Esther| 32|\n",
            "|  f|  Fanny| 36|\n",
            "|  g|  Gabby| 60|\n",
            "+---+-------+---+\n",
            "\n"
          ]
        }
      ]
    },
    {
      "cell_type": "code",
      "metadata": {
        "colab": {
          "base_uri": "https://localhost:8080/"
        },
        "id": "1IgDGJ3_hIb3",
        "outputId": "899ec4f2-06ab-47ed-bda4-4c0bf345e94b"
      },
      "source": [
        "g.edges.show()"
      ],
      "execution_count": null,
      "outputs": [
        {
          "output_type": "stream",
          "name": "stdout",
          "text": [
            "+---+---+------------+\n",
            "|src|dst|relationship|\n",
            "+---+---+------------+\n",
            "|  a|  b|      friend|\n",
            "|  b|  c|      follow|\n",
            "|  c|  b|      follow|\n",
            "|  f|  c|      follow|\n",
            "|  e|  f|      follow|\n",
            "|  e|  d|      friend|\n",
            "|  d|  a|      friend|\n",
            "|  a|  e|      friend|\n",
            "+---+---+------------+\n",
            "\n"
          ]
        }
      ]
    },
    {
      "cell_type": "code",
      "metadata": {
        "colab": {
          "base_uri": "https://localhost:8080/"
        },
        "id": "m8vQ2L1nnWrQ",
        "outputId": "bf9feb91-b9a4-48f0-d276-47bee6f86096"
      },
      "source": [
        "g.vertices.count()"
      ],
      "execution_count": null,
      "outputs": [
        {
          "output_type": "execute_result",
          "data": {
            "text/plain": [
              "7"
            ]
          },
          "metadata": {},
          "execution_count": 14
        }
      ]
    },
    {
      "cell_type": "code",
      "metadata": {
        "colab": {
          "base_uri": "https://localhost:8080/"
        },
        "id": "xdnTgXfQnaK8",
        "outputId": "5633b6bc-213a-4c56-c583-fad7f04045bb"
      },
      "source": [
        "g.edges.count()"
      ],
      "execution_count": null,
      "outputs": [
        {
          "output_type": "execute_result",
          "data": {
            "text/plain": [
              "8"
            ]
          },
          "metadata": {},
          "execution_count": 15
        }
      ]
    },
    {
      "cell_type": "code",
      "metadata": {
        "id": "YbXI5s3niMi-"
      },
      "source": [
        "#create a function to plot the graph\n",
        "import networkx as nx\n",
        "\n",
        "def plot_graph(gx):\n",
        "    g = nx.DiGraph(directed = True)\n",
        "    \n",
        "    g = nx.from_pandas_edgelist(gx.edges.toPandas(),'src','dst')\n",
        "    g.add_nodes_from(gx.vertices.toPandas()['id'])\n",
        "\n",
        "    nx.draw(g, with_labels=True, arrows = True, node_color='grey')"
      ],
      "execution_count": null,
      "outputs": []
    },
    {
      "cell_type": "code",
      "metadata": {
        "colab": {
          "base_uri": "https://localhost:8080/",
          "height": 319
        },
        "id": "Cf0AX_xqiC21",
        "outputId": "f91b6e16-095c-4bad-d88a-334e928b1741"
      },
      "source": [
        "plot_graph(g)"
      ],
      "execution_count": null,
      "outputs": [
        {
          "output_type": "display_data",
          "data": {
            "image/png": "[encoded data removed]",
            "text/plain": [
              "<Figure size 432x288 with 1 Axes>"
            ]
          },
          "metadata": {}
        }
      ]
    },
    {
      "cell_type": "code",
      "metadata": {
        "id": "Z6rM9BCHJNXg"
      },
      "source": [
        "# gp = nx.from_pandas_edgelist(g.edges.toPandas(),'src','dst')\n",
        "# nx.draw_spectral(gp, center=[\"2\", \"5\"], scale=3.1)"
      ],
      "execution_count": null,
      "outputs": []
    },
    {
      "cell_type": "markdown",
      "metadata": {
        "id": "cWuGNR9LhZDh"
      },
      "source": [
        "# ***inDegrees, outDegrees and degrees***\n",
        "\n",
        "For example, we can identify those who has more connection by using sort function.\n",
        "  \n",
        "**inDegrees** is a number of head ends adjacent to a vertex.\n"
      ]
    },
    {
      "cell_type": "code",
      "metadata": {
        "colab": {
          "base_uri": "https://localhost:8080/"
        },
        "id": "kU9iS0bdhrzh",
        "outputId": "52228f11-e20c-4e4a-b283-3443d5a979b6"
      },
      "source": [
        "g.inDegrees.sort(['inDegree'],ascending=[0]).show()"
      ],
      "execution_count": null,
      "outputs": [
        {
          "output_type": "stream",
          "name": "stdout",
          "text": [
            "+---+--------+\n",
            "| id|inDegree|\n",
            "+---+--------+\n",
            "|  b|       2|\n",
            "|  c|       2|\n",
            "|  f|       1|\n",
            "|  e|       1|\n",
            "|  a|       1|\n",
            "|  d|       1|\n",
            "+---+--------+\n",
            "\n"
          ]
        }
      ]
    },
    {
      "cell_type": "markdown",
      "metadata": {
        "id": "gHJ6S0YsiyAe"
      },
      "source": [
        "**outDegree** is a number of tail ends adjacent to a vertex."
      ]
    },
    {
      "cell_type": "code",
      "metadata": {
        "colab": {
          "base_uri": "https://localhost:8080/"
        },
        "id": "D8HWlmY-hKgS",
        "outputId": "4862e379-ffd7-404f-e6fc-25681c87d4b4"
      },
      "source": [
        "g.outDegrees.sort(['outDegree'],ascending=[0]).show()"
      ],
      "execution_count": null,
      "outputs": [
        {
          "output_type": "stream",
          "name": "stdout",
          "text": [
            "+---+---------+\n",
            "| id|outDegree|\n",
            "+---+---------+\n",
            "|  e|        2|\n",
            "|  a|        2|\n",
            "|  f|        1|\n",
            "|  c|        1|\n",
            "|  d|        1|\n",
            "|  b|        1|\n",
            "+---+---------+\n",
            "\n"
          ]
        }
      ]
    },
    {
      "cell_type": "markdown",
      "metadata": {
        "id": "zGF5S6y8i_mo"
      },
      "source": [
        "**Degree** is just a number of edges connected to a node regardless of the direction of edge"
      ]
    },
    {
      "cell_type": "code",
      "metadata": {
        "colab": {
          "base_uri": "https://localhost:8080/"
        },
        "id": "38PQX2y_hp7D",
        "outputId": "e266d4c3-5bb9-4dc2-9fb4-26f4dc3eef47"
      },
      "source": [
        "g.degrees.sort(['Degree'],ascending=[0]).show()"
      ],
      "execution_count": null,
      "outputs": [
        {
          "output_type": "stream",
          "name": "stdout",
          "text": [
            "+---+------+\n",
            "| id|degree|\n",
            "+---+------+\n",
            "|  c|     3|\n",
            "|  e|     3|\n",
            "|  b|     3|\n",
            "|  a|     3|\n",
            "|  f|     2|\n",
            "|  d|     2|\n",
            "+---+------+\n",
            "\n"
          ]
        }
      ]
    },
    {
      "cell_type": "markdown",
      "metadata": {
        "id": "Q_4J5zHXoFsE"
      },
      "source": [
        "# **Built-In Algorithms**\n",
        "\n",
        "\n",
        "---\n",
        "\n"
      ]
    },
    {
      "cell_type": "markdown",
      "metadata": {
        "id": "Qlo3KudDqHlq"
      },
      "source": [
        "** *italicized text*PageRank Algorithm**:"
      ]
    },
    {
      "cell_type": "code",
      "metadata": {
        "colab": {
          "base_uri": "https://localhost:8080/"
        },
        "id": "XH1j3mJqp9aC",
        "outputId": "4d610531-3e0b-4a13-f7af-4ec3c8cbcf79"
      },
      "source": [
        "pr = g.pageRank(resetProbability=0.15, tol=0.01)\n",
        "## look at the pagerank score for every vertex\n",
        "pr.vertices.show()\n",
        "## look at the weight of every edge\n",
        "pr.edges.show()"
      ],
      "execution_count": null,
      "outputs": [
        {
          "output_type": "stream",
          "name": "stdout",
          "text": [
            "+---+-------+---+-------------------+\n",
            "| id|   name|age|           pagerank|\n",
            "+---+-------+---+-------------------+\n",
            "|  g|  Gabby| 60| 0.1799821386239711|\n",
            "|  f|  Fanny| 36| 0.3283606792049851|\n",
            "|  e| Esther| 32|0.37085233187676075|\n",
            "|  d|  David| 29| 0.3283606792049851|\n",
            "|  c|Charlie| 30| 2.6878300011606218|\n",
            "|  b|    Bob| 36|  2.655507832863289|\n",
            "|  a|  Alice| 34|0.44910633706538744|\n",
            "+---+-------+---+-------------------+\n",
            "\n",
            "+---+---+------------+------+\n",
            "|src|dst|relationship|weight|\n",
            "+---+---+------------+------+\n",
            "|  f|  c|      follow|   1.0|\n",
            "|  e|  f|      follow|   0.5|\n",
            "|  e|  d|      friend|   0.5|\n",
            "|  d|  a|      friend|   1.0|\n",
            "|  c|  b|      follow|   1.0|\n",
            "|  b|  c|      follow|   1.0|\n",
            "|  a|  e|      friend|   0.5|\n",
            "|  a|  b|      friend|   0.5|\n",
            "+---+---+------------+------+\n",
            "\n"
          ]
        }
      ]
    },
    {
      "cell_type": "code",
      "metadata": {
        "colab": {
          "base_uri": "https://localhost:8080/"
        },
        "id": "mU0lsKyOJ2ZF",
        "outputId": "4dffecba-1881-488e-fc40-44ea3e3a7678"
      },
      "source": [
        "results = g.pageRank(resetProbability=0.01, maxIter=20)\n",
        "results.vertices.select(\"id\", \"pagerank\")\\\n",
        ".join(vertices, on=\"id\").orderBy(\"pagerank\", ascending=False)\\\n",
        ".show(10)"
      ],
      "execution_count": null,
      "outputs": [
        {
          "output_type": "stream",
          "name": "stdout",
          "text": [
            "+---+--------------------+-------+---+\n",
            "| id|            pagerank|   name|age|\n",
            "+---+--------------------+-------+---+\n",
            "|  b|   3.620587832361418|    Bob| 36|\n",
            "|  c|   3.245249577290185|Charlie| 30|\n",
            "|  a| 0.03825003895693978|  Alice| 34|\n",
            "|  e|0.030638586765997688| Esther| 32|\n",
            "|  f|0.026813355024876025|  Fanny| 36|\n",
            "|  d|0.026813355024876025|  David| 29|\n",
            "|  g| 0.01164725457570717|  Gabby| 60|\n",
            "+---+--------------------+-------+---+\n",
            "\n"
          ]
        }
      ]
    },
    {
      "cell_type": "markdown",
      "metadata": {
        "id": "YhG88gmovjPg"
      },
      "source": [
        "**Connected Components**"
      ]
    },
    {
      "cell_type": "code",
      "metadata": {
        "id": "x1UcOUhAvqZy"
      },
      "source": [
        "from pyspark.context import SparkContext\n",
        "sc = SparkContext.getOrCreate(SparkConf())\n",
        "sc.setCheckpointDir('/content/sample_data')\n",
        "# SparkContext.setCheckpointDir(dirName= '/content/sample_data')\n"
      ],
      "execution_count": null,
      "outputs": []
    },
    {
      "cell_type": "code",
      "metadata": {
        "id": "7qQ5ywgbvjfD"
      },
      "source": [
        "g.connectedComponents().show()"
      ],
      "execution_count": null,
      "outputs": []
    },
    {
      "cell_type": "markdown",
      "metadata": {
        "id": "mNYJCKONoNBn"
      },
      "source": [
        "***Label Propagation***\n"
      ]
    },
    {
      "cell_type": "code",
      "metadata": {
        "id": "CU7nODIUoYsF"
      },
      "source": [
        "labelp_result = g.labelPropagation(maxIter=40)\n",
        "\n",
        "labelp_result.show()"
      ],
      "execution_count": null,
      "outputs": []
    },
    {
      "cell_type": "code",
      "metadata": {
        "id": "28LHiecbJqoO"
      },
      "source": [
        "communities = g.labelPropagation(maxIter=5)\n",
        "communities.persist().show(10)\n",
        "print (f\"There are {communities.select('label').distinct().count()} communities in sample graph.\")"
      ],
      "execution_count": null,
      "outputs": []
    },
    {
      "cell_type": "code",
      "metadata": {
        "id": "EU8iMS1VpMJP"
      },
      "source": [
        "#only shows the top 5 rows\n",
        "labelp_result.groupby('label').count().sort('count', ascending=False).show(5)"
      ],
      "execution_count": null,
      "outputs": []
    },
    {
      "cell_type": "markdown",
      "metadata": {
        "id": "Pq2FwN7aUSoE"
      },
      "source": [
        "Triangle Count"
      ]
    },
    {
      "cell_type": "code",
      "metadata": {
        "id": "qEq05nsFXPje"
      },
      "source": [
        "tc_friends = g.triangleCount()\n",
        "tc_friends\n",
        "tc_friends.select(\"id\", \"count\").show()"
      ],
      "execution_count": null,
      "outputs": []
    },
    {
      "cell_type": "markdown",
      "metadata": {
        "id": "PK860SmxxHRb"
      },
      "source": [
        "# **CPDB Example**\n",
        "\n",
        "Analyze the police officers connection with allegations"
      ]
    },
    {
      "cell_type": "code",
      "metadata": {
        "colab": {
          "base_uri": "https://localhost:8080/"
        },
        "id": "1ei_oY0-OcaJ",
        "outputId": "b000f102-e66e-4c70-9340-2fdcb2d5d709"
      },
      "source": [
        "import psycopg2"
      ],
      "execution_count": null,
      "outputs": [
        {
          "output_type": "stream",
          "name": "stderr",
          "text": [
            "/usr/local/lib/python3.7/dist-packages/psycopg2/__init__.py:144: UserWarning: The psycopg2 wheel package will be renamed from release 2.8; in order to keep installing from binary please use \"pip install psycopg2-binary\" instead. For details see: <http://initd.org/psycopg/docs/install.html#binary-install-from-pypi>.\n",
            "  \"\"\")\n"
          ]
        }
      ]
    },
    {
      "cell_type": "code",
      "metadata": {
        "id": "L4YGowB2Occ7"
      },
      "source": [
        "# access the postgresql server\n",
        "conn = psycopg2.connect(\n",
        "    host=\"codd04.research.northwestern.edu\",\n",
        "    port = \"5433\",\n",
        "    database=\"postgres\",\n",
        "    user=\"cpdbstudent\",\n",
        "    password=\"DataSci4AI\")"
      ],
      "execution_count": null,
      "outputs": []
    },
    {
      "cell_type": "code",
      "metadata": {
        "id": "fUSZMYh5Ohg7"
      },
      "source": [
        "cursor = conn.cursor()"
      ],
      "execution_count": null,
      "outputs": []
    },
    {
      "cell_type": "markdown",
      "metadata": {
        "id": "xdjZye58yCEP"
      },
      "source": [
        "**Following query creates nodes and edges to answer the questions.**\n",
        "\n",
        "\n",
        "\n",
        "*   **nodes**: id, officer name and allegation count\n",
        "*   **edges**: src(officer1 id), dist(officer2 id) and relationship(allegation count)"
      ]
    },
    {
      "cell_type": "code",
      "metadata": {
        "id": "zkOfRw_FOhk0"
      },
      "source": [
        "edges_query = \"SELECT da1.officer_id src, da2.officer_id dst, COUNT(DISTINCT da1.allegation_id) relationship FROM data_officerallegation da1 JOIN data_officerallegation da2 ON da1.allegation_id = da2.allegation_id AND da1.officer_id < da2.officer_id GROUP BY da1.officer_id, da2.officer_id ORDER BY count(*) DESC;\""
      ],
      "execution_count": null,
      "outputs": []
    },
    {
      "cell_type": "code",
      "metadata": {
        "id": "OcMIWVuTOl18"
      },
      "source": [
        "nodes_query = \"SELECT  id, first_name || ' ' || last_name officer_name, allegation_count FROM data_officer;\""
      ],
      "execution_count": null,
      "outputs": []
    },
    {
      "cell_type": "code",
      "metadata": {
        "colab": {
          "base_uri": "https://localhost:8080/"
        },
        "id": "HAAAAxavOl7g",
        "outputId": "fc7745e9-fb76-49b1-e48f-0c6348e9daf4"
      },
      "source": [
        "cursor.execute(edges_query)\n",
        "edges = cursor.fetchall()\n",
        "print(\"shape is: \" + str(len(edges))) # 17465\n",
        "\n",
        "df_edges = pd.DataFrame(edges)\n",
        "colnames = [desc[0] for desc in cursor.description]\n",
        "df_edges.columns = colnames\n",
        "\n",
        "print(df_edges.shape)"
      ],
      "execution_count": null,
      "outputs": [
        {
          "output_type": "stream",
          "name": "stdout",
          "text": [
            "shape is: 229195\n",
            "(229195, 3)\n"
          ]
        }
      ]
    },
    {
      "cell_type": "code",
      "metadata": {
        "colab": {
          "base_uri": "https://localhost:8080/"
        },
        "id": "itgubJqDOq-b",
        "outputId": "128c0a39-1bcd-48ce-c0f2-99ed357528fa"
      },
      "source": [
        "cursor.execute(nodes_query)\n",
        "nodes = cursor.fetchall()\n",
        "print(\"shape is: \" + str(len(nodes))) # 17465\n",
        "\n",
        "df_nodes = pd.DataFrame(nodes)\n",
        "colnames = [desc[0] for desc in cursor.description]\n",
        "df_nodes.columns = colnames\n",
        "\n",
        "print(df_nodes.shape)"
      ],
      "execution_count": null,
      "outputs": [
        {
          "output_type": "stream",
          "name": "stdout",
          "text": [
            "shape is: 35545\n",
            "(35545, 3)\n"
          ]
        }
      ]
    },
    {
      "cell_type": "code",
      "metadata": {
        "id": "Z6Ndlh2fOuPr"
      },
      "source": [
        "edges_ = spark.createDataFrame(df_edges)"
      ],
      "execution_count": null,
      "outputs": []
    },
    {
      "cell_type": "code",
      "metadata": {
        "id": "NQpUzzhiOuM6"
      },
      "source": [
        "nodes = spark.createDataFrame(df_nodes)"
      ],
      "execution_count": null,
      "outputs": []
    },
    {
      "cell_type": "code",
      "metadata": {
        "id": "5E6wePicOzAe"
      },
      "source": [
        "cpdb = GraphFrame(nodes, edges_)"
      ],
      "execution_count": null,
      "outputs": []
    },
    {
      "cell_type": "code",
      "metadata": {
        "colab": {
          "base_uri": "https://localhost:8080/"
        },
        "id": "nGmLt3whyPAu",
        "outputId": "589cc231-7993-420c-c6cd-933375d8ac23"
      },
      "source": [
        "cpdb.vertices.show()"
      ],
      "execution_count": null,
      "outputs": [
        {
          "output_type": "stream",
          "name": "stdout",
          "text": [
            "+-----+---------------+----------------+\n",
            "|   id|   officer_name|allegation_count|\n",
            "+-----+---------------+----------------+\n",
            "|32312|   Randall Ryan|            10.0|\n",
            "|32358|    Kevin Stoll|            24.0|\n",
            "|32480|    David Lavin|             0.0|\n",
            "|32491|     Kevin Rake|             0.0|\n",
            "| 2680| Richard Brandt|             0.0|\n",
            "|29553| Hugh Versteegh|             0.0|\n",
            "|19974|  Andrew Murcia|             0.0|\n",
            "| 8259|    Hugh Farmer|             0.0|\n",
            "|17716|Anthony Matassa|             0.0|\n",
            "|19659|  John Moriarty|             0.0|\n",
            "|32506|Richard Francis|             0.0|\n",
            "|29111|   Robert Tyson|             0.0|\n",
            "| 1791|  Chas Bennette|             0.0|\n",
            "|17146|  Robert Malone|             0.0|\n",
            "|17242|  Jerry Manning|             0.0|\n",
            "|17289|Michael Maratto|             0.0|\n",
            "|32467|  Jonathan Boyd|             0.0|\n",
            "|33755|Phyllis Butcher|             1.0|\n",
            "|  333|Leroy Alexander|             0.0|\n",
            "|18597|  James Mcglynn|             0.0|\n",
            "+-----+---------------+----------------+\n",
            "only showing top 20 rows\n",
            "\n"
          ]
        }
      ]
    },
    {
      "cell_type": "code",
      "metadata": {
        "colab": {
          "base_uri": "https://localhost:8080/"
        },
        "id": "MQ3vTw0yySrG",
        "outputId": "b716aecf-28a4-4783-a3e2-db9e209a8043"
      },
      "source": [
        "cpdb.edges.show()"
      ],
      "execution_count": null,
      "outputs": [
        {
          "output_type": "stream",
          "name": "stdout",
          "text": [
            "+-----+-----+------------+\n",
            "|  src|  dst|relationship|\n",
            "+-----+-----+------------+\n",
            "|12478|32166|          53|\n",
            "| 8562|27778|          47|\n",
            "| 1553|10724|          43|\n",
            "| 2725|21703|          41|\n",
            "| 3605|14442|          41|\n",
            "|12479|20713|          40|\n",
            "| 8658|13788|          38|\n",
            "|14045|15502|          37|\n",
            "| 2369| 7015|          36|\n",
            "| 1553|16699|          35|\n",
            "|12074|12825|          35|\n",
            "| 8852|31119|          35|\n",
            "|15360|23239|          34|\n",
            "|13361|20150|          34|\n",
            "| 8562|23841|          32|\n",
            "| 8562|18206|          32|\n",
            "|32265|32347|          32|\n",
            "|31882|32401|          32|\n",
            "|31119|32336|          32|\n",
            "|27415|32172|          31|\n",
            "+-----+-----+------------+\n",
            "only showing top 20 rows\n",
            "\n"
          ]
        }
      ]
    },
    {
      "cell_type": "code",
      "metadata": {
        "colab": {
          "base_uri": "https://localhost:8080/"
        },
        "id": "hzc372hgOzDF",
        "outputId": "81f99f91-2418-4c08-917e-84df6051dc87"
      },
      "source": [
        "cpdb.vertices.sort(['id'],ascending=True).show()"
      ],
      "execution_count": null,
      "outputs": [
        {
          "output_type": "stream",
          "name": "stdout",
          "text": [
            "+---+-----------------+----------------+\n",
            "| id|     officer_name|allegation_count|\n",
            "+---+-----------------+----------------+\n",
            "|  1|    Jeffery Aaron|             6.0|\n",
            "|  2|     Karina Aaron|             8.0|\n",
            "|  3|     Daniel Abate|             0.0|\n",
            "|  4|    Carmel Abbate|             7.0|\n",
            "|  5|    Carmen Abbate|             4.0|\n",
            "|  6|   Anthony Abbate|             6.0|\n",
            "|  7|     Terry Abbate|             8.0|\n",
            "|  8|       Leon Abbey|             2.0|\n",
            "|  9|    Michael Abbey|             3.0|\n",
            "| 10|       Leon Abbey|             0.0|\n",
            "| 11|     Laura Abbott|             7.0|\n",
            "| 12|    Andrew Abbott|             7.0|\n",
            "| 13|      Dale Abbott|            10.0|\n",
            "| 14| Elizabeth Abbott|             4.0|\n",
            "| 15|    Zaid Abdallah|             1.0|\n",
            "| 16| Aziz Abdelmajeid|            19.0|\n",
            "| 17|  Moulay Abdullah|            25.0|\n",
            "| 18|    Jason Abejero|             5.0|\n",
            "| 19|Restituto Abejero|             5.0|\n",
            "| 20|    Kenneth Abels|             3.0|\n",
            "+---+-----------------+----------------+\n",
            "only showing top 20 rows\n",
            "\n"
          ]
        }
      ]
    },
    {
      "cell_type": "markdown",
      "metadata": {
        "id": "PMRYP3yGzZ4e"
      },
      "source": [
        "**aggregateMessages()**"
      ]
    },
    {
      "cell_type": "code",
      "metadata": {
        "colab": {
          "base_uri": "https://localhost:8080/"
        },
        "id": "gtzyNETZ2X6E",
        "outputId": "514af749-ef84-4424-da11-72d954d44554"
      },
      "source": [
        "from pyspark.sql.functions import sum as sqlsum\n",
        "from graphframes.lib import AggregateMessages as AM\n",
        "# from graphframes.examples import Graphs\n",
        "# g = Graphs(sqlContext).friends()  # Get example graph\n",
        "\n",
        "# For each user, sum the ages of the adjacent users.\n",
        "msgToSrc = AM.dst[\"allegation_count\"]\n",
        "msgToDst = AM.src[\"allegation_count\"]\n",
        "agg = cpdb.aggregateMessages(\n",
        "    sqlsum(AM.msg).alias(\"summedAllegations\"),\n",
        "    sendToSrc=msgToSrc,\n",
        "    sendToDst=msgToDst)\n",
        "\n",
        "agg.sort(['id'],ascending=True).show()"
      ],
      "execution_count": null,
      "outputs": [
        {
          "output_type": "stream",
          "name": "stdout",
          "text": [
            "+---+-----------------+\n",
            "| id|summedAllegations|\n",
            "+---+-----------------+\n",
            "|  1|            101.0|\n",
            "|  2|            301.0|\n",
            "|  4|             24.0|\n",
            "|  5|            293.0|\n",
            "|  6|            273.0|\n",
            "|  7|            347.0|\n",
            "|  8|            156.0|\n",
            "|  9|             13.0|\n",
            "| 11|            138.0|\n",
            "| 12|            383.0|\n",
            "| 13|            149.0|\n",
            "| 14|             54.0|\n",
            "| 15|             90.0|\n",
            "| 16|            987.0|\n",
            "| 17|            208.0|\n",
            "| 18|             33.0|\n",
            "| 19|             27.0|\n",
            "| 20|             37.0|\n",
            "| 21|            114.0|\n",
            "| 25|              7.0|\n",
            "+---+-----------------+\n",
            "only showing top 20 rows\n",
            "\n"
          ]
        }
      ]
    },
    {
      "cell_type": "code",
      "metadata": {
        "colab": {
          "base_uri": "https://localhost:8080/"
        },
        "id": "XpNDDisu3Y-m",
        "outputId": "d6fe869b-1702-499c-ebcb-9ad1c65e32a5"
      },
      "source": [
        "# sort(agg, key= x : agg['summedAllegations']\n",
        "agg = agg.sort(agg.summedAllegations.desc())\n",
        "agg.show()"
      ],
      "execution_count": null,
      "outputs": [
        {
          "output_type": "stream",
          "name": "stdout",
          "text": [
            "+-----+-----------------+\n",
            "|   id|summedAllegations|\n",
            "+-----+-----------------+\n",
            "| 8138|           6934.0|\n",
            "|21530|           6439.0|\n",
            "|31906|           6078.0|\n",
            "|17816|           5950.0|\n",
            "| 8562|           5937.0|\n",
            "|18042|           5800.0|\n",
            "| 9821|           5672.0|\n",
            "| 2375|           5622.0|\n",
            "|11266|           5611.0|\n",
            "|  441|           5537.0|\n",
            "|10442|           5407.0|\n",
            "| 6315|           5296.0|\n",
            "| 3033|           5224.0|\n",
            "|29882|           5083.0|\n",
            "|13303|           5028.0|\n",
            "| 3744|           4958.0|\n",
            "|14294|           4902.0|\n",
            "|27349|           4871.0|\n",
            "| 5667|           4847.0|\n",
            "|16747|           4813.0|\n",
            "+-----+-----------------+\n",
            "only showing top 20 rows\n",
            "\n"
          ]
        }
      ]
    },
    {
      "cell_type": "code",
      "metadata": {
        "id": "bjfzCySMdHr7",
        "colab": {
          "base_uri": "https://localhost:8080/"
        },
        "outputId": "9f69e423-ee43-42ff-b7df-29fb85484ab2"
      },
      "source": [
        "tc_cpdb = cpdb.triangleCount()\n",
        "tc_cpdb\n",
        "tc_cpdb.select(\"id\", \"count\").show()"
      ],
      "execution_count": null,
      "outputs": [
        {
          "output_type": "stream",
          "name": "stdout",
          "text": [
            "+-----+-----+\n",
            "|   id|count|\n",
            "+-----+-----+\n",
            "|19659|    0|\n",
            "| 8259|    0|\n",
            "|33755|    0|\n",
            "|17716|    0|\n",
            "|33725|    0|\n",
            "|32506|    0|\n",
            "|17146|    0|\n",
            "|  333|    0|\n",
            "|17289|    0|\n",
            "| 2680|    0|\n",
            "|19974|    0|\n",
            "|17242|    0|\n",
            "|32491|    0|\n",
            "|32312|   37|\n",
            "|32358|  109|\n",
            "|32480|    0|\n",
            "| 1791|    0|\n",
            "|18597|    0|\n",
            "|29553|    0|\n",
            "|29111|    0|\n",
            "+-----+-----+\n",
            "only showing top 20 rows\n",
            "\n"
          ]
        }
      ]
    },
    {
      "cell_type": "code",
      "metadata": {
        "colab": {
          "base_uri": "https://localhost:8080/"
        },
        "id": "6R15Gbqv2kQT",
        "outputId": "57a96af0-5122-4c6a-8fbe-bec60b7c9d38"
      },
      "source": [
        "pr_cpdb = cpdb.pageRank(resetProbability=0.15, tol=0.01)\n",
        "#look at the pagerank score for every vertex\n",
        "pr_cpdb.vertices.show()"
      ],
      "execution_count": null,
      "outputs": [
        {
          "output_type": "stream",
          "name": "stdout",
          "text": [
            "+-----+------------------+----------------+-------------------+\n",
            "|   id|      officer_name|allegation_count|           pagerank|\n",
            "+-----+------------------+----------------+-------------------+\n",
            "|31944|      James Echols|            30.0|  6.603008258031772|\n",
            "| 9458|    William Galvan|            33.0|  0.729052660765017|\n",
            "|16742|      Anthony Luna|             6.0|  0.512875848188418|\n",
            "| 2250|  Kathleen Boehmer|             2.0|0.42912897460670746|\n",
            "|15194|      Andrew Kraut|            27.0| 1.0077322048463093|\n",
            "|12568|     Patrick Hosty|             8.0| 0.7467004429685056|\n",
            "|12044|    Jose Hernandez|             1.0|0.42912897460670746|\n",
            "|31762|  Michael Zupancic|             0.0|0.42912897460670746|\n",
            "| 1950|      Thomas Beyna|            22.0|0.45237953331106673|\n",
            "|10422|     Marlin Gordon|             0.0|0.42912897460670746|\n",
            "|13098|     Henry Jackson|             2.0| 0.5763886124225226|\n",
            "| 2040|    Thomas Bingham|             0.0|0.42912897460670746|\n",
            "|32098| Christoph Kennedy|             8.0|  3.815750769024555|\n",
            "|32912|Sergio Quintanilla|             0.0|0.42912897460670746|\n",
            "|17048|    Karen Makowski|             1.0| 0.5787868472565615|\n",
            "|13452|     David Johnsen|            10.0|  0.797733972697002|\n",
            "| 8484|      David Fietko|             5.0| 0.5131351227954949|\n",
            "|25826|Thomas Schwartzers|             2.0| 1.0891115713664936|\n",
            "|34340|    Marcin Machnik|             NaN|0.42912897460670746|\n",
            "|11434|    Richard Harmon|             0.0|0.42912897460670746|\n",
            "+-----+------------------+----------------+-------------------+\n",
            "only showing top 20 rows\n",
            "\n"
          ]
        }
      ]
    },
    {
      "cell_type": "code",
      "metadata": {
        "colab": {
          "base_uri": "https://localhost:8080/"
        },
        "id": "fcyUWHIA2va_",
        "outputId": "ed85cc7f-a748-498e-dd87-c1693bf92a4d"
      },
      "source": [
        "#look at the weight of every edge\n",
        "pr_cpdb.edges.show(20)"
      ],
      "execution_count": 75,
      "outputs": [
        {
          "output_type": "stream",
          "name": "stdout",
          "text": [
            "+---+-----+------------+--------------------+\n",
            "|src|  dst|relationship|              weight|\n",
            "+---+-----+------------+--------------------+\n",
            "|  1|  800|           1| 0.14285714285714285|\n",
            "|  1|10302|           1| 0.14285714285714285|\n",
            "|  1|16856|           1| 0.14285714285714285|\n",
            "|  1|24596|           1| 0.14285714285714285|\n",
            "|  2| 2575|           1|0.045454545454545456|\n",
            "|  2| 5714|           1|0.045454545454545456|\n",
            "|  2| 9271|           1|0.045454545454545456|\n",
            "|  2|11686|           1|0.045454545454545456|\n",
            "|  2|13744|           1|0.045454545454545456|\n",
            "|  2|29491|           1|0.045454545454545456|\n",
            "|  2|32243|           1|0.045454545454545456|\n",
            "|  2|32402|           1|0.045454545454545456|\n",
            "|  4| 4380|           1|                0.25|\n",
            "|  4|13208|           1|                0.25|\n",
            "|  4|13917|           1|                0.25|\n",
            "|  4|15095|           2|                0.25|\n",
            "|  5|  137|           1| 0.02857142857142857|\n",
            "|  5| 1256|           1| 0.02857142857142857|\n",
            "|  5| 5044|           1| 0.02857142857142857|\n",
            "|  5| 5731|           1| 0.02857142857142857|\n",
            "+---+-----+------------+--------------------+\n",
            "only showing top 20 rows\n",
            "\n"
          ]
        }
      ]
    },
    {
      "cell_type": "code",
      "metadata": {
        "id": "QE-Qu1rU5ivx"
      },
      "source": [
        "results = pr_cpdb.pageRank(resetProbability=0.01, maxIter=5)\n",
        "results.vertices.select(\"id\", 'pagerank')\\\n",
        ".join(vertices, on=\"id\").orderBy('pagerank', ascending=False)\\\n",
        ".show(10)"
      ],
      "execution_count": null,
      "outputs": []
    }
  ]
}